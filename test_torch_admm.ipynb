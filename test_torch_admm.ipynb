{
 "cells": [
  {
   "cell_type": "code",
   "execution_count": null,
   "id": "85df622a-26ac-4f8d-8e24-716972f871f2",
   "metadata": {},
   "outputs": [],
   "source": [
    "import cv2\n",
    "import torch\n",
    "import torch.nn.functional as F\n",
    "import numpy as np\n",
    "import matplotlib.pyplot as plt\n",
    "\n",
    "from tqdm import tqdm\n",
    "from pathlib import Path\n",
    "from torchvision.io import read_image\n",
    "from eops.deconv import fft_admm_tv\n",
    "from elayers.admmdeconv import ADMMDeconv"
   ]
  },
  {
   "cell_type": "code",
   "execution_count": null,
   "id": "3ce5b6f2-b6da-4338-bf16-c59a2bd251f2",
   "metadata": {},
   "outputs": [],
   "source": [
    "def torch_abs2(x: torch.Tensor) -> torch.Tensor:\n",
    "    return torch.pow(torch.abs(x), 2)\n",
    "\n",
    "\n",
    "def hard_thresh(x: torch.Tensor, tau: float) -> torch.Tensor:\n",
    "    return x * (torch.abs(x) > tau)\n",
    "\n",
    "\n",
    "def soft_thresh(x: torch.Tensor, tau: float) -> torch.Tensor:\n",
    "    return torch.sign(x) * torch.maximum(torch.abs(x)-tau, torch.tensor([0]))\n",
    "\n",
    "\n",
    "def block_thresh(x: torch.Tensor, tau: torch.Tensor) -> torch.Tensor:\n",
    "    return torch.maximum(1 - tau / pixelnorm(x), torch.tensor([0])) * x\n",
    "\n",
    "\n",
    "def pixelnorm(x: torch.Tensor) -> torch.Tensor:\n",
    "    return torch.sqrt(torch.sum(torch.pow(x, 2), (0, 1)))\n",
    "\n",
    "\n",
    "def identity(x: torch.Tensor) -> torch.Tensor:\n",
    "    return x"
   ]
  },
  {
   "cell_type": "code",
   "execution_count": null,
   "id": "11bbb6dd-fad8-4084-8d4a-a1fdfc7c6030",
   "metadata": {},
   "outputs": [],
   "source": [
    "def get_im_hash(img: np.ndarray) -> str:\n",
    "    # imgg = cv2.cvtColor(img, cv2.COLOR_BGR2GRAY)\n",
    "    h=cv2.img_hash.pHash(img) # 8-byte hash\n",
    "    pH=hex(int.from_bytes(h.tobytes(), byteorder='big', signed=False))\n",
    "    return pH"
   ]
  },
  {
   "cell_type": "code",
   "execution_count": null,
   "id": "0268063f-24a7-4611-8946-9c3b494815cb",
   "metadata": {},
   "outputs": [],
   "source": [
    "def get_images(src_dir):\n",
    "    ims = []\n",
    "    images = list(src_dir.glob('*.png'))\n",
    "\n",
    "    for image in images:\n",
    "        img = cv2.imread(str(image), cv2.IMREAD_COLOR)\n",
    "        ims.append(img)\n",
    "\n",
    "    return ims"
   ]
  },
  {
   "cell_type": "code",
   "execution_count": null,
   "id": "4ef4202d-04fa-41b9-8c84-de5ab638e369",
   "metadata": {},
   "outputs": [],
   "source": [
    "def blur_gaussian(images, k_shape=(17, 17), std=2.4):\n",
    "    blurred = []\n",
    "\n",
    "    for img in tqdm(images, total=len(images)):\n",
    "        # add gaussian blurring\n",
    "        blur = cv2.GaussianBlur(img, k_shape, std)\n",
    "        blurred.append(blur)\n",
    "\n",
    "    return blurred"
   ]
  },
  {
   "cell_type": "code",
   "execution_count": null,
   "id": "39d339f2-78ef-4b8a-82d5-9c3efd46b26a",
   "metadata": {},
   "outputs": [],
   "source": [
    "def add_gaussian_noise(images, mean=0, var=0.177):\n",
    "    noisy = []\n",
    "    \n",
    "    for img in tqdm(images):\n",
    "        noise = np.random.normal(loc=mean, scale=var, size=img.shape)\n",
    "        # Noise overlaid over image\n",
    "        img = np.clip((img + noise), 0, 255)\n",
    "        noisy.append(img)\n",
    "\n",
    "    return noisy"
   ]
  },
  {
   "cell_type": "code",
   "execution_count": null,
   "id": "da4a9187-4398-4528-80ab-b32e9f885ab3",
   "metadata": {},
   "outputs": [],
   "source": [
    "def add_cv2randn(images, mean=0, stdv=25):\n",
    "    noisy = []\n",
    "    \n",
    "    for img in tqdm(images):\n",
    "        dst = np.zeros_like(img)\n",
    "        noise = cv2.randn(dst, (mean,mean,mean), (stdv,stdv,stdv))\n",
    "        # Noise overlaid over image\n",
    "        imgn = cv2.add(img, noise)\n",
    "        noisy.append(imgn)\n",
    "\n",
    "    return noisy"
   ]
  },
  {
   "cell_type": "code",
   "execution_count": null,
   "id": "f3531c6c-ca8e-4e67-ba3a-798937847e57",
   "metadata": {},
   "outputs": [],
   "source": [
    "ims_p = Path('test_imgs')\n",
    "imgs = get_images(ims_p)"
   ]
  },
  {
   "cell_type": "markdown",
   "id": "7d372106-c6db-4926-aee9-d7e954e24747",
   "metadata": {},
   "source": [
    "## Add blur and noise"
   ]
  },
  {
   "cell_type": "code",
   "execution_count": null,
   "id": "d551c4cd-f13a-4993-92de-842c6b1d524c",
   "metadata": {},
   "outputs": [],
   "source": [
    "blurs = blur_gaussian(imgs, (7, 7), 1.5)"
   ]
  },
  {
   "cell_type": "code",
   "execution_count": null,
   "id": "c525ba9f-a7ce-4294-b705-e1f9e0aedb13",
   "metadata": {},
   "outputs": [],
   "source": [
    "noisy = add_cv2randn(blurs, 0, 20)"
   ]
  },
  {
   "cell_type": "code",
   "execution_count": null,
   "id": "e2635966-723c-4394-b4ae-03d3c33603bb",
   "metadata": {},
   "outputs": [],
   "source": [
    "# plt.figure(figsize=(10,8))\n",
    "plt.imshow(cv2.cvtColor(noisy[0], cv2.COLOR_BGR2RGB))"
   ]
  },
  {
   "cell_type": "code",
   "execution_count": null,
   "id": "1ea630e6-a1a4-4cbd-98d6-131ba882bef6",
   "metadata": {},
   "outputs": [],
   "source": [
    "mean = 0               # Mean of the Gaussian noise\n",
    "std_dev = 20 / 255           # Standard deviation of the Gaussian noise\n",
    "\n",
    "# Generate Gaussian noise\n",
    "gaussian_noise = torch.clamp(torch.randn(blurs[0].shape) * std_dev + mean, 0.0, 1.0)\n",
    "\n",
    "# Add noise to the original image\n",
    "noisy_image = (blurs[0] / 255) + gaussian_noise.numpy()\n",
    "\n",
    "# Clip the values to be in the proper range [0, 255] for an 8-bit image\n",
    "noisy_image = np.clip(noisy_image * 255, 0, 255).astype(np.uint8)"
   ]
  },
  {
   "cell_type": "code",
   "execution_count": null,
   "id": "1c6295a1-fb84-4ab0-bd99-ddee7d965793",
   "metadata": {},
   "outputs": [],
   "source": [
    "plt.imshow(cv2.cvtColor(noisy_image, cv2.COLOR_BGR2RGB))"
   ]
  },
  {
   "cell_type": "code",
   "execution_count": null,
   "id": "05c0e476-cb3d-4734-844b-2ff6c6fe4622",
   "metadata": {},
   "outputs": [],
   "source": [
    "xin1 = torch.tensor(noisy[0]/255, dtype=torch.float32).permute(2,0,1)[torch.newaxis,...]\n",
    "xin2 = torch.tensor(noisy[1]/255, dtype=torch.float32).permute(2,0,1)[torch.newaxis,...]\n",
    "k = cv2.getGaussianKernel(7, 1.5)\n",
    "k = k @ k.T\n",
    "k = torch.tensor(k, dtype=torch.float32)[torch.newaxis, torch.newaxis,...]\n",
    "lmb = torch.tensor([0.02])\n",
    "rho = torch.tensor([0.02])\n",
    "xin = torch.cat((xin1, xin2), 0)"
   ]
  },
  {
   "cell_type": "code",
   "execution_count": null,
   "id": "659bd970-f843-49c4-ae90-c96f1e383490",
   "metadata": {
    "scrolled": true
   },
   "outputs": [],
   "source": [
    "r = fft_admm_tv(torch.tensor(xin1[0])[torch.newaxis,...], lmb, rho, k, True, 300)"
   ]
  },
  {
   "cell_type": "code",
   "execution_count": null,
   "id": "efa085c3-16d4-4787-91d9-372344e3641f",
   "metadata": {
    "scrolled": true
   },
   "outputs": [],
   "source": [
    "r.shape"
   ]
  },
  {
   "cell_type": "code",
   "execution_count": null,
   "id": "82a36101-9dd3-4b88-8c46-cb32610a88dd",
   "metadata": {},
   "outputs": [],
   "source": [
    "rrr = r[0,:,:,:].permute((0,1,2))"
   ]
  },
  {
   "cell_type": "code",
   "execution_count": null,
   "id": "0fd1d1d0-9648-4301-bee1-5d9cc83f772a",
   "metadata": {},
   "outputs": [],
   "source": [
    "rrr = rrr.permute((1,2,0)"
   ]
  },
  {
   "cell_type": "code",
   "execution_count": null,
   "id": "ba0a95bb-2576-410b-973f-e67c601c4c9a",
   "metadata": {},
   "outputs": [],
   "source": [
    "# plt.figure(figsize=(10,8))\n",
    "plt.imshow(cv2.cvtColor(rrr.permute((1,2,0)).detach().numpy(), cv2.COLOR_BGR2RGB))"
   ]
  },
  {
   "cell_type": "code",
   "execution_count": null,
   "id": "f52bf89b-452e-4f90-8bda-ccee420b1f0c",
   "metadata": {},
   "outputs": [],
   "source": [
    "l = ADMMDeconv((3,3), max_iters=150, lmbda=0.02, rho=0.04, iso=False)"
   ]
  },
  {
   "cell_type": "code",
   "execution_count": null,
   "id": "0bf0201b-3e7d-4352-952c-fe03792849b5",
   "metadata": {},
   "outputs": [],
   "source": [
    "a = l(xin)"
   ]
  },
  {
   "cell_type": "code",
   "execution_count": null,
   "id": "3b8908ef-20b2-4731-bfd3-716ed3b14113",
   "metadata": {},
   "outputs": [],
   "source": []
  }
 ],
 "metadata": {
  "kernelspec": {
   "display_name": "Python 3 (ipykernel)",
   "language": "python",
   "name": "python3"
  },
  "language_info": {
   "codemirror_mode": {
    "name": "ipython",
    "version": 3
   },
   "file_extension": ".py",
   "mimetype": "text/x-python",
   "name": "python",
   "nbconvert_exporter": "python",
   "pygments_lexer": "ipython3",
   "version": "3.12.5"
  }
 },
 "nbformat": 4,
 "nbformat_minor": 5
}
